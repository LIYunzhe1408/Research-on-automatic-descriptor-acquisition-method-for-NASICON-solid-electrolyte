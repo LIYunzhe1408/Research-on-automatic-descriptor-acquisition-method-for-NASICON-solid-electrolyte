{
 "cells": [
  {
   "cell_type": "code",
   "execution_count": 1,
   "id": "a64d73c5",
   "metadata": {},
   "outputs": [],
   "source": [
    "import re\n",
    "import pandas as pd\n",
    "import enchant\n",
    "\n",
    "d = enchant.Dict(\"en_US\")"
   ]
  },
  {
   "cell_type": "code",
   "execution_count": 3,
   "id": "e591824f",
   "metadata": {},
   "outputs": [],
   "source": [
    "raw_ner_result = pd.read_csv('./NER/304.txt_test_knowledge_base.csv', header=None, encoding='utf-8')"
   ]
  },
  {
   "cell_type": "code",
   "execution_count": 4,
   "id": "8c7a90eb",
   "metadata": {},
   "outputs": [
    {
     "data": {
      "text/html": [
       "<div>\n",
       "<style scoped>\n",
       "    .dataframe tbody tr th:only-of-type {\n",
       "        vertical-align: middle;\n",
       "    }\n",
       "\n",
       "    .dataframe tbody tr th {\n",
       "        vertical-align: top;\n",
       "    }\n",
       "\n",
       "    .dataframe thead th {\n",
       "        text-align: right;\n",
       "    }\n",
       "</style>\n",
       "<table border=\"1\" class=\"dataframe\">\n",
       "  <thead>\n",
       "    <tr style=\"text-align: right;\">\n",
       "      <th></th>\n",
       "      <th>0</th>\n",
       "      <th>1</th>\n",
       "    </tr>\n",
       "  </thead>\n",
       "  <tbody>\n",
       "    <tr>\n",
       "      <th>0</th>\n",
       "      <td>techniques , in conjunction with X - ray</td>\n",
       "      <td>A variety of electrochemical techniques , in c...</td>\n",
       "    </tr>\n",
       "    <tr>\n",
       "      <th>1</th>\n",
       "      <td>photoelectron</td>\n",
       "      <td>A variety of electrochemical techniques , in c...</td>\n",
       "    </tr>\n",
       "    <tr>\n",
       "      <th>2</th>\n",
       "      <td>photoelectron</td>\n",
       "      <td>The open - top cells were analyzed using X - r...</td>\n",
       "    </tr>\n",
       "    <tr>\n",
       "      <th>3</th>\n",
       "      <td>spectroscopy , support these conclusions .</td>\n",
       "      <td>A variety of electrochemical techniques , in c...</td>\n",
       "    </tr>\n",
       "    <tr>\n",
       "      <th>4</th>\n",
       "      <td>impedance</td>\n",
       "      <td>All symmetric cells were conditioned by cyclin...</td>\n",
       "    </tr>\n",
       "    <tr>\n",
       "      <th>...</th>\n",
       "      <td>...</td>\n",
       "      <td>...</td>\n",
       "    </tr>\n",
       "    <tr>\n",
       "      <th>268</th>\n",
       "      <td>electrochemical</td>\n",
       "      <td>At the same time , the Cr layers promoted reve...</td>\n",
       "    </tr>\n",
       "    <tr>\n",
       "      <th>269</th>\n",
       "      <td>conversion of the</td>\n",
       "      <td>At the same time , the Cr layers promoted reve...</td>\n",
       "    </tr>\n",
       "    <tr>\n",
       "      <th>270</th>\n",
       "      <td>stability and interphase</td>\n",
       "      <td>Experiments with electron - blocking Cr - AlO ...</td>\n",
       "    </tr>\n",
       "    <tr>\n",
       "      <th>271</th>\n",
       "      <td>growth were similar Cr alone .</td>\n",
       "      <td>Experiments with electron - blocking Cr - AlO ...</td>\n",
       "    </tr>\n",
       "    <tr>\n",
       "      <th>272</th>\n",
       "      <td>transport non - uniformities and improving sta...</td>\n",
       "      <td>In particular , the ability of the nm Cr layer...</td>\n",
       "    </tr>\n",
       "  </tbody>\n",
       "</table>\n",
       "<p>273 rows × 2 columns</p>\n",
       "</div>"
      ],
      "text/plain": [
       "                                                     0  \\\n",
       "0             techniques , in conjunction with X - ray   \n",
       "1                                        photoelectron   \n",
       "2                                        photoelectron   \n",
       "3           spectroscopy , support these conclusions .   \n",
       "4                                            impedance   \n",
       "..                                                 ...   \n",
       "268                                    electrochemical   \n",
       "269                                  conversion of the   \n",
       "270                           stability and interphase   \n",
       "271                     growth were similar Cr alone .   \n",
       "272  transport non - uniformities and improving sta...   \n",
       "\n",
       "                                                     1  \n",
       "0    A variety of electrochemical techniques , in c...  \n",
       "1    A variety of electrochemical techniques , in c...  \n",
       "2    The open - top cells were analyzed using X - r...  \n",
       "3    A variety of electrochemical techniques , in c...  \n",
       "4    All symmetric cells were conditioned by cyclin...  \n",
       "..                                                 ...  \n",
       "268  At the same time , the Cr layers promoted reve...  \n",
       "269  At the same time , the Cr layers promoted reve...  \n",
       "270  Experiments with electron - blocking Cr - AlO ...  \n",
       "271  Experiments with electron - blocking Cr - AlO ...  \n",
       "272  In particular , the ability of the nm Cr layer...  \n",
       "\n",
       "[273 rows x 2 columns]"
      ]
     },
     "execution_count": 4,
     "metadata": {},
     "output_type": "execute_result"
    }
   ],
   "source": [
    "raw_ner_result"
   ]
  },
  {
   "cell_type": "code",
   "execution_count": 5,
   "id": "de09dbea",
   "metadata": {},
   "outputs": [],
   "source": [
    "filter_list = []\n",
    "for i in range(len(raw_ner_result)):\n",
    "    now_word_list = str(raw_ner_result.iloc[i, 0]).split(\" \")\n",
    "    \n",
    "    count = 0\n",
    "    for j in range(len(now_word_list)):\n",
    "        if d.check(now_word_list[j]):\n",
    "            count += 1\n",
    "                \n",
    "    if count == len(now_word_list):\n",
    "        filter_list.append([raw_ner_result.iloc[i, 0], raw_ner_result.iloc[i, 1]])"
   ]
  },
  {
   "cell_type": "code",
   "execution_count": 6,
   "id": "97facc7c",
   "metadata": {},
   "outputs": [
    {
     "data": {
      "text/plain": [
       "135"
      ]
     },
     "execution_count": 6,
     "metadata": {},
     "output_type": "execute_result"
    }
   ],
   "source": [
    "len(filter_list)    "
   ]
  },
  {
   "cell_type": "code",
   "execution_count": 7,
   "id": "d1be9936",
   "metadata": {},
   "outputs": [],
   "source": [
    "df_list = []\n",
    "for ele in filter_list:\n",
    "    if ele[0] in df_list:\n",
    "        continue\n",
    "    else:\n",
    "        df_list.append(ele[0])"
   ]
  },
  {
   "cell_type": "code",
   "execution_count": 8,
   "id": "6ba6df5b",
   "metadata": {},
   "outputs": [],
   "source": [
    "df = pd.DataFrame(df_list)\n",
    "df.to_csv(\"./material_knowledge.csv\", header=None, index=None, encoding='utf-8')"
   ]
  },
  {
   "cell_type": "code",
   "execution_count": 9,
   "id": "ee9b57b8",
   "metadata": {},
   "outputs": [],
   "source": [
    "filter_list_df = pd.DataFrame(filter_list)"
   ]
  },
  {
   "cell_type": "code",
   "execution_count": 10,
   "id": "cc8fff5b",
   "metadata": {},
   "outputs": [
    {
     "data": {
      "text/html": [
       "<div>\n",
       "<style scoped>\n",
       "    .dataframe tbody tr th:only-of-type {\n",
       "        vertical-align: middle;\n",
       "    }\n",
       "\n",
       "    .dataframe tbody tr th {\n",
       "        vertical-align: top;\n",
       "    }\n",
       "\n",
       "    .dataframe thead th {\n",
       "        text-align: right;\n",
       "    }\n",
       "</style>\n",
       "<table border=\"1\" class=\"dataframe\">\n",
       "  <thead>\n",
       "    <tr style=\"text-align: right;\">\n",
       "      <th></th>\n",
       "      <th>0</th>\n",
       "      <th>1</th>\n",
       "    </tr>\n",
       "  </thead>\n",
       "  <tbody>\n",
       "    <tr>\n",
       "      <th>0</th>\n",
       "      <td>photoelectron</td>\n",
       "      <td>A variety of electrochemical techniques , in c...</td>\n",
       "    </tr>\n",
       "    <tr>\n",
       "      <th>1</th>\n",
       "      <td>photoelectron</td>\n",
       "      <td>The open - top cells were analyzed using X - r...</td>\n",
       "    </tr>\n",
       "    <tr>\n",
       "      <th>2</th>\n",
       "      <td>impedance</td>\n",
       "      <td>All symmetric cells were conditioned by cyclin...</td>\n",
       "    </tr>\n",
       "    <tr>\n",
       "      <th>3</th>\n",
       "      <td>spectra were collected in the range from MHz t...</td>\n",
       "      <td>All symmetric cells were conditioned by cyclin...</td>\n",
       "    </tr>\n",
       "    <tr>\n",
       "      <th>4</th>\n",
       "      <td>electron</td>\n",
       "      <td>Symmetric and full cells were studied ex situ ...</td>\n",
       "    </tr>\n",
       "    <tr>\n",
       "      <th>...</th>\n",
       "      <td>...</td>\n",
       "      <td>...</td>\n",
       "    </tr>\n",
       "    <tr>\n",
       "      <th>130</th>\n",
       "      <td>growth and delaying fracture at moderate current</td>\n",
       "      <td>Cr interlayer films were found to significantl...</td>\n",
       "    </tr>\n",
       "    <tr>\n",
       "      <th>131</th>\n",
       "      <td>electrochemical</td>\n",
       "      <td>At the same time , the Cr layers promoted reve...</td>\n",
       "    </tr>\n",
       "    <tr>\n",
       "      <th>132</th>\n",
       "      <td>conversion of the</td>\n",
       "      <td>At the same time , the Cr layers promoted reve...</td>\n",
       "    </tr>\n",
       "    <tr>\n",
       "      <th>133</th>\n",
       "      <td>stability and interphase</td>\n",
       "      <td>Experiments with electron - blocking Cr - AlO ...</td>\n",
       "    </tr>\n",
       "    <tr>\n",
       "      <th>134</th>\n",
       "      <td>growth were similar Cr alone .</td>\n",
       "      <td>Experiments with electron - blocking Cr - AlO ...</td>\n",
       "    </tr>\n",
       "  </tbody>\n",
       "</table>\n",
       "<p>135 rows × 2 columns</p>\n",
       "</div>"
      ],
      "text/plain": [
       "                                                     0  \\\n",
       "0                                        photoelectron   \n",
       "1                                        photoelectron   \n",
       "2                                            impedance   \n",
       "3    spectra were collected in the range from MHz t...   \n",
       "4                                             electron   \n",
       "..                                                 ...   \n",
       "130   growth and delaying fracture at moderate current   \n",
       "131                                    electrochemical   \n",
       "132                                  conversion of the   \n",
       "133                           stability and interphase   \n",
       "134                     growth were similar Cr alone .   \n",
       "\n",
       "                                                     1  \n",
       "0    A variety of electrochemical techniques , in c...  \n",
       "1    The open - top cells were analyzed using X - r...  \n",
       "2    All symmetric cells were conditioned by cyclin...  \n",
       "3    All symmetric cells were conditioned by cyclin...  \n",
       "4    Symmetric and full cells were studied ex situ ...  \n",
       "..                                                 ...  \n",
       "130  Cr interlayer films were found to significantl...  \n",
       "131  At the same time , the Cr layers promoted reve...  \n",
       "132  At the same time , the Cr layers promoted reve...  \n",
       "133  Experiments with electron - blocking Cr - AlO ...  \n",
       "134  Experiments with electron - blocking Cr - AlO ...  \n",
       "\n",
       "[135 rows x 2 columns]"
      ]
     },
     "execution_count": 10,
     "metadata": {},
     "output_type": "execute_result"
    }
   ],
   "source": [
    "filter_list_df"
   ]
  },
  {
   "cell_type": "code",
   "execution_count": 11,
   "id": "83a5902c",
   "metadata": {},
   "outputs": [],
   "source": [
    "merge_entity = {}"
   ]
  },
  {
   "cell_type": "code",
   "execution_count": 12,
   "id": "de4ca5b6",
   "metadata": {},
   "outputs": [],
   "source": [
    "for i in range(len(filter_list_df)):\n",
    "    now_sent = str(filter_list_df.iloc[i, 1]).split(\" \")\n",
    "    old_len = len(now_sent)\n",
    "    last_word = now_sent.pop()\n",
    "    new_len = len(now_sent)\n",
    "    assert old_len-1 == new_len\n",
    "    \n",
    "    \n",
    "    if last_word != \".\" or \".\" in now_sent or new_len <= 8:\n",
    "        continue\n",
    "    \n",
    "    if filter_list_df.iloc[i, 1] not in merge_entity:\n",
    "        merge_entity[filter_list_df.iloc[i, 1]] = [filter_list_df.iloc[i, 0]]\n",
    "    else:\n",
    "        merge_entity[filter_list_df.iloc[i, 1]].append(filter_list_df.iloc[i, 0])"
   ]
  },
  {
   "cell_type": "code",
   "execution_count": 13,
   "id": "b5a59424",
   "metadata": {},
   "outputs": [
    {
     "data": {
      "text/plain": [
       "56"
      ]
     },
     "execution_count": 13,
     "metadata": {},
     "output_type": "execute_result"
    }
   ],
   "source": [
    "len(merge_entity)"
   ]
  },
  {
   "cell_type": "code",
   "execution_count": 14,
   "id": "693236c6",
   "metadata": {},
   "outputs": [
    {
     "data": {
      "text/plain": [
       "{'A variety of electrochemical techniques , in conjunction with X - ray photoelectron spectroscopy , support these conclusions .': ['photoelectron'],\n",
       " 'The open - top cells were analyzed using X - ray photoelectron spectroscopy to determine the presence of lithium on the surface of the pellets .': ['photoelectron',\n",
       "  'spectroscopy to determine the presence of lithium on the surface of the pellets .'],\n",
       " 'Symmetric and full cells were studied ex situ using scanning electron microscopy .': ['electron',\n",
       "  'microscopy .'],\n",
       " 'The instrument used was a Zeiss Ultra FE - SEM with an accelerating voltage of or kV .': ['Ultra',\n",
       "  'FE',\n",
       "  'SEM with an accelerating',\n",
       "  'voltage of or kV .'],\n",
       " 'The surface of the sample was ﬂooded with slow + ions using the ﬂood gun to compensate for surface electrons and Ar charging .': ['gun to compensate for surface electrons and Ar charging .'],\n",
       " 'This indicates the existence of a current density limit above which the Cr layer no longer enables a uniform and planar reaction front to grow .': ['density limit above which the Cr layer no longer enables a uniform and planar reaction front to grow .'],\n",
       " 'The guiding principle to extend cycle life of unstable SSEs , including NASICON materials , is to prevent direct contact between Li and the SSE .': ['SSE .',\n",
       "  'life of unstable'],\n",
       " 'In principle , the protective layer between Li metal and the SSE should enable ion transport but prevent electron transport to impede the electrochemical reduction of the SSE .': ['Li metal and the',\n",
       "  'SSE should enable ion',\n",
       "  'transport but prevent electron',\n",
       "  'transport to impede the electrochemical',\n",
       "  'reduction of the SSE .'],\n",
       " 'Trimethyl aluminum and DI water were used as precursors , and nitrogen was used as the carrier gas .': ['carrier gas .'],\n",
       " 'Pellets polished on both sides and coated with nm Cr or nm Cr on nm AlO were used for open - top cells .': ['open',\n",
       "  'top cells .'],\n",
       " 'The black trace in Figure a is from an open - top cell with only a nm Cr layer on top , while the blue trace is from an open - top cell with a bilayer of nm Cr on top of nm AlO deposited by atomic layer deposition .': ['open',\n",
       "  'open',\n",
       "  'top',\n",
       "  'layer',\n",
       "  'deposition .'],\n",
       " 'Despite this improved performance , Cr - protected symmetric cells cycled at higher currents were observed to exhibit shorter cycle life .': ['symmetric cells cycled at higher currents were observed to exhibit shorter cycle',\n",
       "  'life .'],\n",
       " 'To further investigate this possibility , we constructed conventional slurry - based electrodes with LAGP powder and examined their electrochemical behavior within liquid - electrolyte half cells .': ['slurry',\n",
       "  'liquid',\n",
       "  'based',\n",
       "  'electrodes with',\n",
       "  'electrolyte half cells .',\n",
       "  'behavior within'],\n",
       " 'This work shows that metallic protection layers can enable > h of cycling time for NASICON - based lithium metal batteries , and it provides important insights into the mechanisms through which these metallic protection layers operate .': ['metallic',\n",
       "  'metal',\n",
       "  'protection layers operate .',\n",
       "  'lithium',\n",
       "  'time for'],\n",
       " 'These results are important since they demonstrate the underlying mechanisms that govern the action of metallic protection layers .': ['metallic protection layers .'],\n",
       " 'In particular , the ability of the nm Cr layers to allow Li to be transported while also reducing ion transport non - uniformities and improving stability could be beneficial when used with a variety of SSE materials .': ['SSE materials .'],\n",
       " 'In either case , the use of metallic layers in conjunction with these future protection materials could be advantageous .': ['metallic layers in conjunction with these future protection materials could be advantageous .'],\n",
       " 'We attribute the observed uniform growth and improved chemo - mechanical stability of the interphase region to the ability of the vapor - deposited Cr films to mitigate non - uniformities in ion transport near the interface , which can cause irregular growth and cell failure .': ['interphase',\n",
       "  'stability of the',\n",
       "  'growth and cell',\n",
       "  'failure .'],\n",
       " 'Figure shows SEM images of the interphase region formed electrochemically .': ['interphase',\n",
       "  'region formed electrochemically .'],\n",
       " 'The coin cells were pressed at psi using a crimper .': ['coin cells were at psi using a crimper .'],\n",
       " 'It is difficult to determine the amount of Li plating / stripping solely from the electrochemical response in galvanostatic cycling of symmetric cells , and the extended galvanostatic cycling thus does not directly translate into extended Li plating / stripping .': ['symmetric',\n",
       "  'cycling of'],\n",
       " 'Two identical symmetric cells with Cr - protected LAGP were constructed and tested under different conditions .': ['symmetric'],\n",
       " 'To address this question , we designed an open - top cell , as depicted in the inset of Figure a .': ['open',\n",
       "  'top'],\n",
       " 'The cell with the Cr - AlO bilayer was also constructed and tested to examine the effects of the electronically - insulating AlO layer .': ['Cr'],\n",
       " 'Although the Cr - AlO bilayer enabled preferential lithium deposition without interphase formation in the early times of this experiment , long - term cycling still resulted in the reaction of LAGP and the formation of a uniform interphase .': ['Cr'],\n",
       " 'Finally , we examined the effects of the Cr interfacial layer on the electrochemistry of full cells .': ['Cr',\n",
       "  'interfacial',\n",
       "  'layer on the electrochemistry of full cells .'],\n",
       " 'As shown in Figure , the Cr interfacial layer at the Li metal interface also extends stability of these full cells , and the full cells provide additional understanding of the behavior of these interfaces .': ['Cr',\n",
       "  'interfacial'],\n",
       " 'Another feature evident from Figures a and b is that the Cr interlayer alters the voltage of the full cell .': ['Cr'],\n",
       " 'Experiments with electron - blocking Cr - AlO bilayers showed initial promotion of Li plating , but long - term stability and interphase growth were similar Cr alone .': ['Cr',\n",
       "  'stability and interphase',\n",
       "  'growth were similar Cr alone .'],\n",
       " 'These results indicate that the initial electrochemical behavior of the interface can be directed through judicious choice of interfacial layers .': ['interfacial',\n",
       "  'layers .',\n",
       "  'behavior of the interface can be directed through judicious choice of'],\n",
       " 'The darker contrast of the interphase in the SEM images arises because of the higher electronic conductivity of the interphase and the incorporation of a significant amount of Li , which has a lower atomic number .': ['interphase in the SEM images arises because of the higher electronic',\n",
       "  'number .'],\n",
       " 'The thickness and morphology of the interphase for both cells is very similar , which is consistent with the impedance evolution discussed in Figure f .': ['interphase for both'],\n",
       " 'At higher current densities , filamentary growth of the interphase occurs following a mechanism similar to that reported for bare LAGP .': ['interphase occurs following a mechanism similar to that reported for bare'],\n",
       " 'Second , the uniform morphology of the interphase in Figure a is significantly different than the non - uniform interphase that forms under identical electrochemical conditions with unprotected LAGP .': ['interphase that forms under identical electrochemical conditions with unprotected'],\n",
       " 'The data from the Cr - protected LAGP cell in Figures b and cm c show much greater cycling stability than the data from the bare sample in Figure a .': ['cell in Figures b and cm c show much greater cycling',\n",
       "  'stability than the data from the bare sample in Figure a .'],\n",
       " 'With this cell , we can detect reaction products on the “ open - top ” side of the pellet without the presence of a thick Li foil electrode that obscures the solid - state interface .': ['foil',\n",
       "  'electrode that obscures the',\n",
       "  'state',\n",
       "  'interface .',\n",
       "  'Li',\n",
       "  'solid'],\n",
       " 'The Cr layer on the top of the pellet behaves as the electrical contact , and a thicker Cu ring is used as an electrical connection .': ['connection .',\n",
       "  'electrical'],\n",
       " 'Cyclic voltammetry and galvanostatic cycling of LAGP working electrodes showed that this material undergoes redox .': ['working',\n",
       "  'cycling of'],\n",
       " 'Cyclic voltammetry and galvanostatic cycling were performed on these cells using a Bio - Logic VMP potentiostat at room temperature .': ['Bio',\n",
       "  'Logic',\n",
       "  'cycling were performed on these cells using a'],\n",
       " 'Figure d shows that a planar , uniform interphase was formed on the anode side of a similar sample with no signs of fracture after cycles .': ['anode side of a similar sample with no signs of fracture after cycles .'],\n",
       " 'We believe that failure of these protected cells occurs not due to fracture , but due to delamination of the cathode .': ['cathode .'],\n",
       " 'These additional results provide strong evidence that the shift in voltage of the Cr - protected solid - state cell in Figure b is due to reversible conversion reaction of the LAGP at the anode .': ['anode .',\n",
       "  'reaction of the',\n",
       "  'conversion'],\n",
       " 'This behavior suggests that this sample features direct electrochemical deposition of Li metal without significant reaction of the LAGP to form an interphase .': ['deposition of Li metal without significant reaction of the'],\n",
       " 'Surprisingly , electronically - conducting protective layer materials , such as Ge and Al have recently been shown to significantly increase cycle life at moderate current densities .': ['life at moderate',\n",
       "  'current',\n",
       "  'densities .'],\n",
       " 'It is possible that higher pressures or other strategies to improve contact at the interface could improve stability at higher current densities .': ['current',\n",
       "  'densities .'],\n",
       " 'Cr interlayer films were found to significantly extend the lifetime of symmetric and full cells by promoting uniform interphase growth and delaying fracture at moderate current densities .': ['densities .',\n",
       "  'growth and delaying fracture at moderate current'],\n",
       " 'The extended cyclability attained with Cr is again connected to the improved chemo - mechanical stability of the LAGP pellet .': ['stability of the'],\n",
       " 'PEO and LiTFSI were dissolved in acetonitrile in an : molar ratio before mixing with the other components .': ['molar',\n",
       "  'ratio before mixing with the other components .'],\n",
       " 'These data suggest that while there is some electrochemical reaction of the LAGP at higher potentials , there is also some Li metal deposition to cover the Cr layer .': ['reaction of the'],\n",
       " 'Thus , these findings suggest that without the Cr protection layer , Li / LAGP / LFP full cells operate via Li plating / stripping at the anode , but when the Cr layer is added , it promotes the direct electrochemical conversion reaction of the LAGP .': ['reaction of the',\n",
       "  'conversion'],\n",
       " 'Uniform and planar interphases avoid these stress concentrations and can be stable for much longer times .': ['concentrations and can be stable for much longer times .'],\n",
       " 'The reduction in cell voltage for the Cr - coated cell is most likely due to the negative electrode reaction being reversible conversion of the LAGP instead of Li plating / stripping .': ['electrode'],\n",
       " 'In the Cr - protected LAGP cells , the Cr layer represents an additional barrier for Li transport , which could frustrate Li plating / stripping and favor electrochemical conversion .': ['conversion .'],\n",
       " 'We hypothesize that , while electron transport can be uniform due to the transport is still restricted due to immetallic Cr protection layer , Li perfect contact , which can lead to preferential localized growth of the interphase .': ['transport can be uniform due to the transport is still restricted due to'],\n",
       " 'Since the interphase is a MIEC reduction of pristine LAGP is favored at the interphase protrusions , where the ion transport distance is shorter .': ['transport',\n",
       "  'distance is shorter .'],\n",
       " 'At the same time , the Cr layers promoted reversible electrochemical conversion of the LAGP material instead of Li deposition / stripping .': ['electrochemical',\n",
       "  'conversion of the']}"
      ]
     },
     "execution_count": 14,
     "metadata": {},
     "output_type": "execute_result"
    }
   ],
   "source": [
    "merge_entity"
   ]
  },
  {
   "cell_type": "code",
   "execution_count": 15,
   "id": "d99095b5",
   "metadata": {},
   "outputs": [],
   "source": [
    "pre_sent = []"
   ]
  },
  {
   "cell_type": "code",
   "execution_count": 16,
   "id": "87a42e23",
   "metadata": {},
   "outputs": [],
   "source": [
    "for idx, (sent, entity_list) in enumerate(merge_entity.items()):\n",
    "    entities = list(set(entity_list))\n",
    "\n",
    "    if len(entities) < 2:\n",
    "        continue\n",
    "    else:\n",
    "        temp = []\n",
    "        for i in range(len(entities)-1):\n",
    "            for j in range(i+1, len(entities)):\n",
    "                temp.append((entities[i], entities[j]))\n",
    "        for t in range(len(temp)):\n",
    "            try:\n",
    "                h0, h1 = sent.index(temp[t][0]), sent.index(temp[t][-1])\n",
    "                t0, t1 = h0 + len(temp[t][0]) + 1, h1 + len(temp[t][-1]) + 1\n",
    "                if h0 > h1:\n",
    "                    e1_sent = sent[0:h0] + \"<e2>\" + temp[t][0] + \"</e2> \" + sent[t0:]\n",
    "                    e2_sent = e1_sent[0:h1] + \"<e1>\" + temp[t][-1] + \"</e1> \" + e1_sent[t1:]\n",
    "                    pre_sent.append(e2_sent)\n",
    "                else:\n",
    "                    e2_sent = sent[0:h1] + \"<e2>\" + temp[t][-1] + \"</e2> \" + sent[t1:]\n",
    "                    e1_sent = e2_sent[0:h0] + \"<e1>\" + temp[t][0] + \"</e1> \" + e2_sent[t0:]\n",
    "                    pre_sent.append(e1_sent)\n",
    "            except:\n",
    "                continue           "
   ]
  },
  {
   "cell_type": "code",
   "execution_count": 17,
   "id": "49e830ca",
   "metadata": {},
   "outputs": [],
   "source": [
    "for ele in pre_sent:\n",
    "    if \"<e1>\" not in ele:\n",
    "        pre_sent.remove(ele)\n",
    "        continue\n",
    "    elif \"</e1>\" not in ele:\n",
    "        pre_sent.remove(ele)\n",
    "        continue\n",
    "    elif \"<e2>\" not in ele:\n",
    "        pre_sent.remove(ele)\n",
    "        continue\n",
    "    elif \"</e2>\" not in ele:\n",
    "        pre_sent.remove(ele)\n",
    "        continue"
   ]
  },
  {
   "cell_type": "code",
   "execution_count": 18,
   "id": "485815c9",
   "metadata": {},
   "outputs": [
    {
     "data": {
      "text/plain": [
       "104"
      ]
     },
     "execution_count": 18,
     "metadata": {},
     "output_type": "execute_result"
    }
   ],
   "source": [
    "len(pre_sent)"
   ]
  },
  {
   "cell_type": "code",
   "execution_count": 20,
   "id": "8b1f64e7",
   "metadata": {},
   "outputs": [],
   "source": [
    "for i in range(len(pre_sent)):\n",
    "    with open(\"./test.tsv\", 'a', encoding='utf-8') as f:\n",
    "        f.write(\"Other\")\n",
    "        f.write(\"\\t\")\n",
    "        f.write(pre_sent[i] + \"\\n\")"
   ]
  }
 ],
 "metadata": {
  "kernelspec": {
   "display_name": "Python [conda env:Jonas] *",
   "language": "python",
   "name": "conda-env-Jonas-py"
  },
  "language_info": {
   "codemirror_mode": {
    "name": "ipython",
    "version": 3
   },
   "file_extension": ".py",
   "mimetype": "text/x-python",
   "name": "python",
   "nbconvert_exporter": "python",
   "pygments_lexer": "ipython3",
   "version": "3.7.11"
  }
 },
 "nbformat": 4,
 "nbformat_minor": 5
}
