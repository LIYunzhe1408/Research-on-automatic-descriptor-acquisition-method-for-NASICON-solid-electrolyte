{
 "cells": [
  {
   "cell_type": "markdown",
   "id": "9c0f1625",
   "metadata": {},
   "source": [
    "# py2neo4j"
   ]
  },
  {
   "cell_type": "markdown",
   "id": "d6376279",
   "metadata": {},
   "source": [
    "1.创建节点和关系，同时输出节点间存在多个关系的节点（便于后续更改）"
   ]
  },
  {
   "cell_type": "markdown",
   "id": "85fa997a",
   "metadata": {},
   "source": [
    "2.查询某节点的所有邻接点"
   ]
  },
  {
   "cell_type": "markdown",
   "id": "9f6e60d6",
   "metadata": {},
   "source": [
    "3.查询所有以该节点为头节点的子图"
   ]
  },
  {
   "cell_type": "markdown",
   "id": "91b15738",
   "metadata": {},
   "source": [
    "4.查询所有以该节点为尾节点的子图"
   ]
  },
  {
   "cell_type": "markdown",
   "id": "80b612f0",
   "metadata": {},
   "source": [
    "5.查询任意两个节点之间的通路"
   ]
  },
  {
   "cell_type": "markdown",
   "id": "67015b29",
   "metadata": {},
   "source": [
    "6.查询与某节点的所有子图（？）"
   ]
  },
  {
   "cell_type": "markdown",
   "id": "2502187e",
   "metadata": {},
   "source": [
    "### 1.创建节点和关系,输出节点间存在多个关系的节点"
   ]
  },
  {
   "cell_type": "code",
   "execution_count": 1,
   "id": "db882b4b",
   "metadata": {},
   "outputs": [],
   "source": [
    "import json\n",
    "from ast import literal_eval\n",
    "from py2neo import Node,Relationship,Graph,NodeMatcher,RelationshipMatcher"
   ]
  },
  {
   "cell_type": "code",
   "execution_count": 2,
   "id": "724f2d9d",
   "metadata": {},
   "outputs": [],
   "source": [
    "#读入json\n",
    "json_info=open('226_test1.json','r')\n",
    "per_article=literal_eval(json_info.read())"
   ]
  },
  {
   "cell_type": "code",
   "execution_count": 3,
   "id": "283f9f53",
   "metadata": {},
   "outputs": [],
   "source": [
    "#连接数据库\n",
    "#graph=Graph('http://localhost:7474/',auth=('neo4j','Zhen010809'))#correct\n",
    "graph=Graph('bolt://3.93.220.202:7687',auth=('neo4j','choices-laundry-directives'))"
   ]
  },
  {
   "cell_type": "code",
   "execution_count": 4,
   "id": "8354148c",
   "metadata": {},
   "outputs": [],
   "source": [
    "#函数定义\n",
    "def MatchNode(graph,label,attrs):\n",
    "    '''判断图中是否存在该节点'''\n",
    "    node_matcher=NodeMatcher(graph)\n",
    "    #re_value=node_matcher.match(label).where(\"_.name=\"+\"\\'\"+attrs+\"\\'\").first()#转义字符，这样写的话，实体中的引号需要改成中文格式的\n",
    "    re_value=node_matcher.match(label,name=attrs).first()                       #这种写法ok了\n",
    "    return re_value                                                             #若存在该节点，则返回符合条件的第一个节点；若不存在，则返回None\n",
    "\n",
    "def CreateNode(graph,label,attrs):\n",
    "    '''创建节点'''\n",
    "    re_value=MatchNode(graph,label,attrs)\n",
    "    if re_value is None:\n",
    "        #若图中不存在相同标签的节点，则创建并返回新建的节点\n",
    "        node=Node(label,name=attrs)\n",
    "        graph.create(node)\n",
    "        return node\n",
    "    else: \n",
    "        #若存在相同标签的节点，则返回该已有的节点\n",
    "        return re_value\n",
    "\n",
    "def CreateRelationship(graph,node1,relation,node2):\n",
    "    '''创建关系（注意：Relationship()可以自动去重）'''\n",
    "    r=Relationship(node1,relation,node2)\n",
    "    return graph.create(r)"
   ]
  },
  {
   "cell_type": "code",
   "execution_count": 5,
   "id": "e9346d9f",
   "metadata": {},
   "outputs": [],
   "source": [
    "#创建节点和关系\n",
    "for per_sentence in per_article:\n",
    "    for per_relationship in per_sentence['relation_list']:\n",
    "        predicate_list=per_relationship['predicate'].split('/')              #分割predicate\n",
    "        node1=CreateNode(graph,predicate_list[0],per_relationship['subject'])#创建头节点\n",
    "        node2=CreateNode(graph,predicate_list[1],per_relationship['object']) #创建尾节点\n",
    "        CreateRelationship(graph,node1,predicate_list[2],node2)              #创建关系"
   ]
  },
  {
   "cell_type": "code",
   "execution_count": 45,
   "id": "f8403381",
   "metadata": {
    "collapsed": true
   },
   "outputs": [
    {
     "name": "stdout",
     "output_type": "stream",
     "text": [
      "1\n",
      "句子1： 19 Adding refractory elements W, Mo, Ta, Re and Ru are expected to slow down the diffusion process of the elements in alloys.\n",
      "关系： Ru ---- Composition/Composition/instance_of ---> refractory elements \n",
      "\n",
      "句子2： 55 Compared to the content of elements (W + Mo + Ta) in the Re / Ru-free alloy, the content of elements (W + Mo + Ta + Re + Ru) in the 4.5%Re / 3%Ru containing alloy increases from 17.84 wt% to 22.80 wt%, which indicates that the Ru may enhance the content of the refractory elements in alloy to a great extent.\n",
      "关系： refractory elements ---- Composition/Composition/instance_of ---> Ru\n",
      "=====================================================================\n",
      "2\n",
      "句子1： 23 The double line contrast is attributed to the decomposition of dislocation D on the (100) plane, and the anti-phase boundary (APB) was located in between the double lines of dislocations.\n",
      "关系： dislocation ---- Structure/Structure/condition_on ---> (100) plane \n",
      "\n",
      "句子2： 115 Therefore, the slipping plane of dislocation C is determined as the (100) plane according to bC × μC, which is identified as the K-W dislocation locks.\n",
      "关系： (100) plane ---- Structure/Structure/condition_on ---> dislocation\n",
      "=====================================================================\n",
      "3\n",
      "句子1： 24 And the creep lives of alloy at 1070 degree C reduced obvious with the increase of the applied stresses, such as the creep lives of the alloy were measured to be 461 h, 264 h and 173 h at the applied stresses of 137 MPa, 160 MPa and 180 MPa, respectively.\n",
      "关系： creep lives ---- Property/Condition/condition_on ---> applied stresses \n",
      "\n",
      "句子2： 113 Therefore, the creep lives of the alloy reduced as the creep temperatures and applied stresses increased.\n",
      "关系： applied stresses ---- Property/Condition/condition_on ---> creep lives\n",
      "=====================================================================\n",
      "4\n",
      "句子1： 24 And the creep lives of alloy at 1070 degree C reduced obvious with the increase of the applied stresses, such as the creep lives of the alloy were measured to be 461 h, 264 h and 173 h at the applied stresses of 137 MPa, 160 MPa and 180 MPa, respectively.\n",
      "关系： creep lives ---- Property/Condition/condition_on ---> applied stresses \n",
      "\n",
      "句子2： 113 Therefore, the creep lives of the alloy reduced as the creep temperatures and applied stresses increased.\n",
      "关系： applied stresses ---- Property/Condition/condition_on ---> creep lives\n",
      "=====================================================================\n",
      "5\n",
      "句子1： 55 Compared to the content of elements (W + Mo + Ta) in the Re / Ru-free alloy, the content of elements (W + Mo + Ta + Re + Ru) in the 4.5%Re / 3%Ru containing alloy increases from 17.84 wt% to 22.80 wt%, which indicates that the Ru may enhance the content of the refractory elements in alloy to a great extent.\n",
      "关系： refractory elements ---- Composition/Composition/instance_of ---> Ru \n",
      "\n",
      "句子2： 19 Adding refractory elements W, Mo, Ta, Re and Ru are expected to slow down the diffusion process of the elements in alloys.\n",
      "关系： Ru ---- Composition/Composition/instance_of ---> refractory elements\n",
      "=====================================================================\n",
      "6\n",
      "句子1： 55 Compared to the content of elements (W + Mo + Ta) in the Re / Ru-free alloy, the content of elements (W + Mo + Ta + Re + Ru) in the 4.5%Re / 3%Ru containing alloy increases from 17.84 wt% to 22.80 wt%, which indicates that the Ru may enhance the content of the refractory elements in alloy to a great extent.\n",
      "关系： refractory elements ---- Composition/Composition/instance_of ---> Ru \n",
      "\n",
      "句子2： 101 And some Re, W, Mo atoms being accompanied with the Ru are dissolved into gamma’ phase, due to the hybridization effect of the Ru with Re, W and Mo atoms, to enhance the alloying extent of the refractory elements in gamma’ phase.\n",
      "关系： Ru ---- Composition/Composition/instance_of ---> refractory elements\n",
      "=====================================================================\n",
      "7\n",
      "句子1： 101 And some Re, W, Mo atoms being accompanied with the Ru are dissolved into gamma’ phase, due to the hybridization effect of the Ru with Re, W and Mo atoms, to enhance the alloying extent of the refractory elements in gamma’ phase.\n",
      "关系： Ru ---- Composition/Composition/instance_of ---> refractory elements \n",
      "\n",
      "句子2： 55 Compared to the content of elements (W + Mo + Ta) in the Re / Ru-free alloy, the content of elements (W + Mo + Ta + Re + Ru) in the 4.5%Re / 3%Ru containing alloy increases from 17.84 wt% to 22.80 wt%, which indicates that the Ru may enhance the content of the refractory elements in alloy to a great extent.\n",
      "关系： refractory elements ---- Composition/Composition/instance_of ---> Ru\n",
      "=====================================================================\n",
      "8\n",
      "句子1： 113 Therefore, the creep lives of the alloy reduced as the creep temperatures and applied stresses increased.\n",
      "关系： applied stresses ---- Condition/Property/cause_effect ---> creep lives \n",
      "\n",
      "句子2： 24 And the creep lives of alloy at 1070 degree C reduced obvious with the increase of the applied stresses, such as the creep lives of the alloy were measured to be 461 h, 264 h and 173 h at the applied stresses of 137 MPa, 160 MPa and 180 MPa, respectively.\n",
      "关系： creep lives ---- Condition/Property/cause_effect ---> applied stresses\n",
      "=====================================================================\n",
      "9\n",
      "句子1： 113 Therefore, the creep lives of the alloy reduced as the creep temperatures and applied stresses increased.\n",
      "关系： applied stresses ---- Condition/Property/cause_effect ---> creep lives \n",
      "\n",
      "句子2： 24 And the creep lives of alloy at 1070 degree C reduced obvious with the increase of the applied stresses, such as the creep lives of the alloy were measured to be 461 h, 264 h and 173 h at the applied stresses of 137 MPa, 160 MPa and 180 MPa, respectively.\n",
      "关系： creep lives ---- Condition/Property/cause_effect ---> applied stresses\n",
      "=====================================================================\n",
      "10\n",
      "句子1： 115 Therefore, the slipping plane of dislocation C is determined as the (100) plane according to bC × μC, which is identified as the K-W dislocation locks.\n",
      "关系： (100) plane ---- Structure/Structure/component_whole ---> dislocation \n",
      "\n",
      "句子2： 23 The double line contrast is attributed to the decomposition of dislocation D on the (100) plane, and the anti-phase boundary (APB) was located in between the double lines of dislocations.\n",
      "关系： dislocation ---- Structure/Structure/component_whole ---> (100) plane\n",
      "=====================================================================\n"
     ]
    }
   ],
   "source": [
    "#输出两节点间多个关系的节点\n",
    "#walk(relationship) 返回一个生成器包含起始node、关系本身、终止node\n",
    "relationship_list=[]\n",
    "number=0\n",
    "for per_sentence in per_article:\n",
    "    for per_relationship in per_sentence['relation_list']:\n",
    "        #print(per_relationship)\n",
    "        temp=per_relationship\n",
    "        temp['num']=number#number:第几句，编号从0开始\n",
    "        relationship_list.append(temp)\n",
    "    number=number+1\n",
    "#print(relationship_list)\n",
    "\n",
    "error_relationship_list=[]\n",
    "number=1\n",
    "#now=0\n",
    "for i in relationship_list:\n",
    "    subject1=i['subject']\n",
    "    object1=i['object'] \n",
    "    #print(relationship_list.index(i))\n",
    "    #for j in relationship_list[now+1:]:\n",
    "    for j in relationship_list:\n",
    "        if i!=j:\n",
    "            subject2=j['subject']\n",
    "            object2=j['object']\n",
    "            if subject1==object2 and object1==subject2:\n",
    "                print(number)\n",
    "                print(\"句子1：\",i['num'],per_article[i['num']]['text'])\n",
    "                print(\"关系：\",subject1,\"----\",i[\"predicate\"],\"--->\",object1,'\\n')\n",
    "                print(\"句子2：\",j['num'],per_article[j['num']]['text'])\n",
    "                print(\"关系：\",subject2,\"----\",i[\"predicate\"],\"--->\",object2)\n",
    "                print(\"=====================================================================\")\n",
    "                number=number+1"
   ]
  },
  {
   "cell_type": "markdown",
   "id": "30e757f2",
   "metadata": {},
   "source": [
    "### 2.查询某节点的所有邻接点"
   ]
  },
  {
   "cell_type": "code",
   "execution_count": 29,
   "id": "d5a78cee",
   "metadata": {},
   "outputs": [
    {
     "name": "stdout",
     "output_type": "stream",
     "text": [
      "请输入要查询的节点名：Ru\n",
      "[property_of(Node('Property', name='dissolving'), Node('Composition', name='Ru')), cause_effect(Node('Composition', name='Ru'), Node('Property', name='creep resistance')), composition_of(Node('Composition', name='Ru'), Node('Structure', name='gamma’-Ni3Al phase'))]\n"
     ]
    }
   ],
   "source": [
    "#def allnode_query():\n",
    "n=input(\"请输入要查询的节点名：\")\n",
    "\n",
    "node_matcher=NodeMatcher(graph)\n",
    "node=node_matcher.match(name=n).first() \n",
    "\n",
    "relationship_matcher=RelationshipMatcher(graph)\n",
    "allnode_relationship=relationship_matcher.match(nodes={node},r_type=None)\n",
    "print(list(allnode_relationship))\n",
    "#endnode_query()"
   ]
  },
  {
   "cell_type": "markdown",
   "id": "39e9808d",
   "metadata": {},
   "source": [
    "### 3.查询以该节点为头节点的子图"
   ]
  },
  {
   "cell_type": "code",
   "execution_count": 31,
   "id": "4b928108",
   "metadata": {},
   "outputs": [
    {
     "name": "stdout",
     "output_type": "stream",
     "text": [
      "请输入要查询的节点名：Ru\n",
      "[cause_effect(Node('Composition', name='Ru'), Node('Property', name='creep resistance')), composition_of(Node('Composition', name='Ru'), Node('Structure', name='gamma’-Ni3Al phase'))]\n"
     ]
    }
   ],
   "source": [
    "#def headnode_query():\n",
    "n=input(\"请输入要查询的节点名：\")\n",
    "\n",
    "node_matcher=NodeMatcher(graph)\n",
    "node=node_matcher.match(name=n).first() \n",
    "\n",
    "relationship_matcher=RelationshipMatcher(graph)\n",
    "headnode_relationship=relationship_matcher.match(nodes=[node],r_type=None)\n",
    "print(list(headnode_relationship))\n",
    "#headnode_query()"
   ]
  },
  {
   "cell_type": "markdown",
   "id": "332681db",
   "metadata": {},
   "source": [
    "### 4.查询以该节点为尾节点的子图"
   ]
  },
  {
   "cell_type": "code",
   "execution_count": 34,
   "id": "dcea17a0",
   "metadata": {},
   "outputs": [
    {
     "name": "stdout",
     "output_type": "stream",
     "text": [
      "请输入要查询的节点名：Ru\n"
     ]
    },
    {
     "data": {
      "text/plain": [
       "[property_of(Node('Property', name='dissolving'), Node('Composition', name='Ru'))]"
      ]
     },
     "execution_count": 34,
     "metadata": {},
     "output_type": "execute_result"
    }
   ],
   "source": [
    "n=input(\"请输入要查询的节点名：\")\n",
    "\n",
    "endnode_relationship=set(allnode_relationship).difference(set(headnode_relationship))\n",
    "list(endnode_relationship)"
   ]
  },
  {
   "cell_type": "markdown",
   "id": "3b7bc5c4",
   "metadata": {},
   "source": [
    "### 5.查询任意两个节点之间的通路"
   ]
  },
  {
   "cell_type": "code",
   "execution_count": 36,
   "id": "4fbc13f0",
   "metadata": {},
   "outputs": [
    {
     "name": "stdout",
     "output_type": "stream",
     "text": [
      "[]\n"
     ]
    }
   ],
   "source": [
    "#Path()？\n",
    "node_matcher=NodeMatcher(graph)\n",
    "node1=node_matcher.match(name='crossslipping').first() \n",
    "node2=node_matcher.match(name='{100} planes').first()\n",
    "\n",
    "relationship_matcher=RelationshipMatcher(graph)\n",
    "road=relationship_matcher.match(nodes=(node1,node2),r_type=None)\n",
    "print(list(road))"
   ]
  },
  {
   "cell_type": "code",
   "execution_count": null,
   "id": "1d56f500",
   "metadata": {},
   "outputs": [],
   "source": []
  }
 ],
 "metadata": {
  "kernelspec": {
   "display_name": "Python 3 (ipykernel)",
   "language": "python",
   "name": "python3"
  },
  "language_info": {
   "codemirror_mode": {
    "name": "ipython",
    "version": 3
   },
   "file_extension": ".py",
   "mimetype": "text/x-python",
   "name": "python",
   "nbconvert_exporter": "python",
   "pygments_lexer": "ipython3",
   "version": "3.9.7"
  }
 },
 "nbformat": 4,
 "nbformat_minor": 5
}
